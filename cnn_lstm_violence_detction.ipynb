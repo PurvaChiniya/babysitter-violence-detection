{
  "nbformat": 4,
  "nbformat_minor": 0,
  "metadata": {
    "colab": {
      "name": "cnn-lstm violence detction",
      "provenance": [],
      "collapsed_sections": [],
      "authorship_tag": "ABX9TyP8D3H6SUvI0OkQMGGSYtLE",
      "include_colab_link": true
    },
    "kernelspec": {
      "name": "python3",
      "display_name": "Python 3"
    },
    "language_info": {
      "name": "python"
    },
    "accelerator": "GPU"
  },
  "cells": [
    {
      "cell_type": "markdown",
      "metadata": {
        "id": "view-in-github",
        "colab_type": "text"
      },
      "source": [
        "<a href=\"https://colab.research.google.com/github/PurvaChiniya/babysitter-violence-detection/blob/main/cnn_lstm_violence_detction.ipynb\" target=\"_parent\"><img src=\"https://colab.research.google.com/assets/colab-badge.svg\" alt=\"Open In Colab\"/></a>"
      ]
    },
    {
      "cell_type": "markdown",
      "metadata": {
        "id": "aK-AKsnzXSJk"
      },
      "source": [
        "# Import libraries"
      ]
    },
    {
      "cell_type": "code",
      "metadata": {
        "id": "JAxPwKqhXUVg"
      },
      "source": [
        "import tensorflow as tf\n",
        "import numpy as np\n",
        "from skimage.io import imread\n",
        "from skimage.transform import resize\n",
        "import cv2\n",
        "import numpy as np\n",
        "import pandas as pd\n",
        "import matplotlib.pyplot as plt\n",
        "import os \n"
      ],
      "execution_count": null,
      "outputs": []
    },
    {
      "cell_type": "markdown",
      "metadata": {
        "id": "svewikjFXC_D"
      },
      "source": [
        "# Get data as videos and capture frames from each video"
      ]
    },
    {
      "cell_type": "code",
      "metadata": {
        "colab": {
          "base_uri": "https://localhost:8080/"
        },
        "id": "PKtHIdMSWv-5",
        "outputId": "48f27872-faf6-4921-a073-47dea46cc70b"
      },
      "source": [
        "from google.colab import drive\n",
        "drive.mount('/content/drive')"
      ],
      "execution_count": null,
      "outputs": [
        {
          "output_type": "stream",
          "name": "stdout",
          "text": [
            "Mounted at /content/drive\n"
          ]
        }
      ]
    },
    {
      "cell_type": "code",
      "metadata": {
        "id": "RAV5RmmMG95F"
      },
      "source": [
        "violence= np.zeros((120, 40, 160, 160, 3), dtype=np.float)\n",
        "labels = []"
      ],
      "execution_count": null,
      "outputs": []
    },
    {
      "cell_type": "code",
      "metadata": {
        "id": "VTx3OGBSXt2m"
      },
      "source": [
        "def capture(filename):\n",
        "    frames = np.zeros((40, 160, 160, 3), dtype=np.float)\n",
        "    i=0\n",
        "    vc = cv2.VideoCapture(filename)\n",
        "    if vc.isOpened():\n",
        "        rval , frame = vc.read()\n",
        "    else:\n",
        "        rval = False\n",
        "    #frm = cv2.resize(frame,(200,200))\n",
        "    frm = resize(frame,(160, 160, 3))\n",
        "    frm = np.expand_dims(frm,axis=0)\n",
        "    if(np.max(frm)>1):\n",
        "        frm = frm/255.0\n",
        "    frames[i][:] = frm\n",
        "    i +=1\n",
        "    while i < 40:\n",
        "        rval, frame = vc.read()\n",
        "        #print(i)\n",
        "        #plt.imshow(frame)\n",
        "        #plt.show()\n",
        "        #frm = cv2.resize(frame,(200,200))\n",
        "        frm = resize(frame,(160, 160, 3))\n",
        "        frm = np.expand_dims(frm,axis=0)\n",
        "        if(np.max(frm)>1):\n",
        "            frm = frm/255.0\n",
        "        frames[i][:] = frm\n",
        "        i +=1\n",
        "        #print(frame)\n",
        "    return frames"
      ],
      "execution_count": null,
      "outputs": []
    },
    {
      "cell_type": "code",
      "metadata": {
        "colab": {
          "base_uri": "https://localhost:8080/"
        },
        "id": "j8QTawF0YGrF",
        "outputId": "6c8b9cfe-1fc6-4e4c-d1f5-d42a5fdf49eb"
      },
      "source": [
        "main_dir=\"/content/drive/MyDrive/violence_detection\"\n",
        "os.listdir(main_dir)"
      ],
      "execution_count": null,
      "outputs": [
        {
          "output_type": "execute_result",
          "data": {
            "text/plain": [
              "['violence', 'non_violence']"
            ]
          },
          "metadata": {},
          "execution_count": 5
        }
      ]
    },
    {
      "cell_type": "code",
      "metadata": {
        "id": "W1VTRM1sXags"
      },
      "source": [
        "def cut_save(main_dir):\n",
        "    i = 0\n",
        "    #fights = np.zeros((60, 40, 200, 200, 3), dtype=np.float)\n",
        "    #noFights = np.zeros((60, 40, 200, 200, 3), dtype=np.float)\n",
        "    for dir in os.listdir(main_dir):\n",
        "        td = main_dir+\"/\"+dir+'/'\n",
        "      \n",
        "        for file in os.listdir(td):\n",
        "            print(file)\n",
        "            fl = os.path.join(td, file)\n",
        "            videos = capture(fl)\n",
        "            violence[i][:][:] = videos\n",
        "            i +=1\n",
        "            if dir =='violence':\n",
        "                labels.append(1)\n",
        "            else:\n",
        "                labels.append(0)\n",
        "            "
      ],
      "execution_count": null,
      "outputs": []
    },
    {
      "cell_type": "code",
      "metadata": {
        "colab": {
          "base_uri": "https://localhost:8080/"
        },
        "id": "H5sOgCSrcOQc",
        "outputId": "1c4bd449-1afd-4c14-f89e-23d09ae36aeb"
      },
      "source": [
        "cut_save(main_dir)\n",
        "np.load(\"violence.py\")"
      ],
      "execution_count": null,
      "outputs": [
        {
          "output_type": "stream",
          "name": "stdout",
          "text": [
            "1.m4v\n",
            "2.m4v\n",
            "3.m4v\n",
            "4.m4v\n",
            "5.m4v\n",
            "6.m4v\n",
            "7.m4v\n",
            "8.m4v\n",
            "9.m4v\n",
            "10.m4v\n",
            "11.m4v\n",
            "12.m4v\n",
            "13.m4v\n",
            "14.m4v\n",
            "15.m4v\n",
            "16.m4v\n",
            "17.m4v\n",
            "18.m4v\n",
            "19.m4v\n",
            "20.m4v\n",
            "21.m4v\n",
            "22.m4v\n",
            "23.m4v\n",
            "24.m4v\n",
            "25.m4v\n",
            "26.m4v\n",
            "27.m4v\n",
            "28.m4v\n",
            "29.m4v\n",
            "30.m4v\n",
            "31.m4v\n",
            "32.m4v\n",
            "33.m4v\n",
            "34.m4v\n",
            "35.m4v\n",
            "36.m4v\n",
            "37.m4v\n",
            "39.m4v\n",
            "40.m4v\n",
            "41.m4v\n",
            "42.m4v\n",
            "43.m4v\n",
            "44.m4v\n",
            "45.m4v\n",
            "46.m4v\n",
            "47.m4v\n",
            "48.m4v\n",
            "49.m4v\n",
            "50.m4v\n",
            "51.m4v\n",
            "52.m4v\n",
            "53.m4v\n",
            "54.m4v\n",
            "55.m4v\n",
            "56.m4v\n",
            "57.m4v\n",
            "58.m4v\n",
            "59.m4v\n",
            "60.m4v\n",
            "38.m4v\n",
            "1.m4v\n",
            "2.m4v\n",
            "3.m4v\n",
            "4.m4v\n",
            "5.m4v\n",
            "6.m4v\n",
            "7.m4v\n",
            "8.m4v\n",
            "9.m4v\n",
            "10.m4v\n",
            "11.m4v\n",
            "12.m4v\n",
            "13.m4v\n",
            "14.m4v\n",
            "15.m4v\n",
            "16.m4v\n",
            "17.m4v\n",
            "18.m4v\n",
            "19.m4v\n",
            "20.m4v\n",
            "21.m4v\n",
            "22.m4v\n",
            "23.m4v\n",
            "24.m4v\n",
            "25.m4v\n",
            "26.m4v\n",
            "27.m4v\n",
            "28.m4v\n",
            "29.m4v\n",
            "30.m4v\n",
            "31.m4v\n",
            "32.m4v\n",
            "33.m4v\n",
            "34.m4v\n",
            "35.m4v\n",
            "36.m4v\n",
            "37.m4v\n",
            "38.m4v\n",
            "39.m4v\n",
            "40.m4v\n",
            "41.m4v\n",
            "42.m4v\n",
            "43.m4v\n",
            "44.m4v\n",
            "45.m4v\n",
            "46.m4v\n",
            "47.m4v\n",
            "48.m4v\n",
            "49.m4v\n",
            "50.m4v\n",
            "51.m4v\n",
            "52.m4v\n",
            "53.m4v\n",
            "54.m4v\n",
            "55.m4v\n",
            "56.m4v\n",
            "57.m4v\n",
            "58.m4v\n",
            "59.m4v\n",
            "60.m4v\n"
          ]
        }
      ]
    },
    {
      "cell_type": "code",
      "metadata": {
        "colab": {
          "base_uri": "https://localhost:8080/"
        },
        "id": "V-cPWBbcfOMd",
        "outputId": "fd2482e0-e8e2-49fc-d4c5-733516ab29a0"
      },
      "source": [
        "print(len(labels))\n",
        "print(violence.shape)\n",
        "#np.save(\"violence\",violence)"
      ],
      "execution_count": null,
      "outputs": [
        {
          "output_type": "stream",
          "name": "stdout",
          "text": [
            "120\n",
            "(120, 40, 160, 160, 3)\n"
          ]
        }
      ]
    },
    {
      "cell_type": "code",
      "metadata": {
        "id": "In-hyMRjN1N4"
      },
      "source": [
        "#make the train and test data from all data\n",
        "# 60:20:20 train:val:test\n",
        "\n",
        "from sklearn.model_selection import train_test_split\n",
        "\n",
        "X_train, X_test, y_train, y_test = train_test_split(violence, labels, test_size=0.2, random_state=1)\n",
        "\n",
        "X_train, X_val, y_train, y_val = train_test_split(X_train, y_train, test_size=0.25, random_state=1) # 0.25 x 0.8 = 0.2\n",
        "\n",
        "\n",
        "#X_train, X_test, y_train, y_test = train_test_split(violence,labels, test_size=0.33, random_state=42)"
      ],
      "execution_count": null,
      "outputs": []
    },
    {
      "cell_type": "code",
      "metadata": {
        "colab": {
          "base_uri": "https://localhost:8080/"
        },
        "id": "4piV4EqTNXHz",
        "outputId": "1657e111-f58b-44da-9eb3-6b96f6ae9938"
      },
      "source": [
        "print(\"Train data\")\n",
        "print(len(y_train))\n",
        "print(len(X_train))\n",
        "print(\"Test data\")\n",
        "print(len(y_test))\n",
        "print(len(X_test))\n",
        "print(\"VAL Data\")\n",
        "print(len(y_val))\n",
        "print(len(X_val))\n",
        "\n",
        "X_train[0].shape"
      ],
      "execution_count": null,
      "outputs": [
        {
          "output_type": "stream",
          "name": "stdout",
          "text": [
            "Train data\n",
            "72\n",
            "72\n",
            "Test data\n",
            "24\n",
            "24\n",
            "VAL Data\n",
            "24\n",
            "24\n"
          ]
        },
        {
          "output_type": "execute_result",
          "data": {
            "text/plain": [
              "(40, 160, 160, 3)"
            ]
          },
          "metadata": {},
          "execution_count": 10
        }
      ]
    },
    {
      "cell_type": "code",
      "metadata": {
        "colab": {
          "base_uri": "https://localhost:8080/",
          "height": 287
        },
        "id": "44Zdnw6wZqcE",
        "outputId": "4182f4bb-be27-48cc-d2bd-a9066977f6e0"
      },
      "source": [
        "plt.imshow(violence[19][26])\n",
        "print(labels[19])\n",
        "plt.show()"
      ],
      "execution_count": null,
      "outputs": [
        {
          "output_type": "stream",
          "name": "stdout",
          "text": [
            "1\n"
          ]
        },
        {
          "output_type": "display_data",
          "data": {
            "image/png": "[encoded data removed]",
            "text/plain": [
              "<Figure size 432x288 with 1 Axes>"
            ]
          },
          "metadata": {
            "needs_background": "light"
          }
        }
      ]
    },
    {
      "cell_type": "markdown",
      "metadata": {
        "id": "RFo4FZoDgMXI"
      },
      "source": [
        "# create model"
      ]
    },
    {
      "cell_type": "code",
      "metadata": {
        "id": "cvN7eAL7A41O"
      },
      "source": [
        "layers = tf.keras.layers\n",
        "models = tf.keras.models\n",
        "losses = tf.keras.losses\n",
        "optimizers = tf.keras.optimizers \n",
        "metrics = tf.keras.metrics\n",
        "utils = tf.keras.utils\n",
        "callbacks = tf.keras.callbacks\n",
        "layers = tf.keras.layers\n",
        "models = tf.keras.models\n",
        "ImageDataGenerator = tf.keras.preprocessing.image.ImageDataGenerator\n",
        "losses = tf.keras.losses\n",
        "optimizers = tf.keras.optimizers \n",
        "metrics = tf.keras.metrics\n",
        "utils = tf.keras.utils\n",
        "callbacks = tf.keras.callbacks\n",
        "\n",
        "plot_model = tf.keras.utils.plot_model"
      ],
      "execution_count": null,
      "outputs": []
    },
    {
      "cell_type": "code",
      "metadata": {
        "id": "EvmI8STxA4w9"
      },
      "source": [
        "np.random.seed(1234)\n",
        "num_classes = 2"
      ],
      "execution_count": null,
      "outputs": []
    },
    {
      "cell_type": "code",
      "metadata": {
        "colab": {
          "base_uri": "https://localhost:8080/"
        },
        "id": "XtYyctdhTNYr",
        "outputId": "b2fb6f8b-665c-43b5-dffa-7a7ac7dafb22"
      },
      "source": [
        "vg19 = tf.keras.applications.vgg19.VGG19\n",
        "base_model = vg19(include_top=False,weights='imagenet',input_shape=(160, 160,3))\n",
        "# Freeze the layers except the last 4 layers\n",
        "for layer in base_model.layers:\n",
        "    layer.trainable = False\n",
        "# Check the trainable status of the individual layers\n",
        "base_model.summary()"
      ],
      "execution_count": null,
      "outputs": [
        {
          "output_type": "stream",
          "name": "stdout",
          "text": [
            "Downloading data from https://storage.googleapis.com/tensorflow/keras-applications/vgg19/vgg19_weights_tf_dim_ordering_tf_kernels_notop.h5\n",
            "80142336/80134624 [==============================] - 1s 0us/step\n",
            "80150528/80134624 [==============================] - 1s 0us/step\n",
            "Model: \"vgg19\"\n",
            "_________________________________________________________________\n",
            "Layer (type)                 Output Shape              Param #   \n",
            "=================================================================\n",
            "input_1 (InputLayer)         [(None, 160, 160, 3)]     0         \n",
            "_________________________________________________________________\n",
            "block1_conv1 (Conv2D)        (None, 160, 160, 64)      1792      \n",
            "_________________________________________________________________\n",
            "block1_conv2 (Conv2D)        (None, 160, 160, 64)      36928     \n",
            "_________________________________________________________________\n",
            "block1_pool (MaxPooling2D)   (None, 80, 80, 64)        0         \n",
            "_________________________________________________________________\n",
            "block2_conv1 (Conv2D)        (None, 80, 80, 128)       73856     \n",
            "_________________________________________________________________\n",
            "block2_conv2 (Conv2D)        (None, 80, 80, 128)       147584    \n",
            "_________________________________________________________________\n",
            "block2_pool (MaxPooling2D)   (None, 40, 40, 128)       0         \n",
            "_________________________________________________________________\n",
            "block3_conv1 (Conv2D)        (None, 40, 40, 256)       295168    \n",
            "_________________________________________________________________\n",
            "block3_conv2 (Conv2D)        (None, 40, 40, 256)       590080    \n",
            "_________________________________________________________________\n",
            "block3_conv3 (Conv2D)        (None, 40, 40, 256)       590080    \n",
            "_________________________________________________________________\n",
            "block3_conv4 (Conv2D)        (None, 40, 40, 256)       590080    \n",
            "_________________________________________________________________\n",
            "block3_pool (MaxPooling2D)   (None, 20, 20, 256)       0         \n",
            "_________________________________________________________________\n",
            "block4_conv1 (Conv2D)        (None, 20, 20, 512)       1180160   \n",
            "_________________________________________________________________\n",
            "block4_conv2 (Conv2D)        (None, 20, 20, 512)       2359808   \n",
            "_________________________________________________________________\n",
            "block4_conv3 (Conv2D)        (None, 20, 20, 512)       2359808   \n",
            "_________________________________________________________________\n",
            "block4_conv4 (Conv2D)        (None, 20, 20, 512)       2359808   \n",
            "_________________________________________________________________\n",
            "block4_pool (MaxPooling2D)   (None, 10, 10, 512)       0         \n",
            "_________________________________________________________________\n",
            "block5_conv1 (Conv2D)        (None, 10, 10, 512)       2359808   \n",
            "_________________________________________________________________\n",
            "block5_conv2 (Conv2D)        (None, 10, 10, 512)       2359808   \n",
            "_________________________________________________________________\n",
            "block5_conv3 (Conv2D)        (None, 10, 10, 512)       2359808   \n",
            "_________________________________________________________________\n",
            "block5_conv4 (Conv2D)        (None, 10, 10, 512)       2359808   \n",
            "_________________________________________________________________\n",
            "block5_pool (MaxPooling2D)   (None, 5, 5, 512)         0         \n",
            "=================================================================\n",
            "Total params: 20,024,384\n",
            "Trainable params: 0\n",
            "Non-trainable params: 20,024,384\n",
            "_________________________________________________________________\n"
          ]
        }
      ]
    },
    {
      "cell_type": "code",
      "metadata": {
        "colab": {
          "base_uri": "https://localhost:8080/"
        },
        "id": "xb_MtlHYTRTT",
        "outputId": "74d605a4-cd39-47cf-ddb4-4467edeb1332"
      },
      "source": [
        "cnn = models.Sequential()\n",
        "cnn.add(base_model)\n",
        "cnn.add(layers.Flatten())\n",
        "#cnn.add(layers.Dense(1024, activation='relu'))\n",
        "#cnn.add(layers.Dropout(0.3))\n",
        "#cnn.add(layers.Dense(512, activation='relu'))\n",
        "#cnn.add(layers.Dropout(0.3))\n",
        "#cnn.add(layers.LSTM(40))\n",
        "\n",
        "# define LSTM model\n",
        "model = models.Sequential()\n",
        "\n",
        "model.add(layers.TimeDistributed(cnn,  input_shape=(40, 160, 160, 3)))\n",
        "model.add(layers.LSTM(40 , return_sequences=True))\n",
        "\n",
        "#model.add(layers.Dense(num_classes, activation=\"sigmoid\"))\n",
        "#model.add(layers.Dropout(0.3))\n",
        "\n",
        "model.add(layers.TimeDistributed(layers.Dense(160, activation='relu')))\n",
        "\n",
        "model.add(layers.GlobalAveragePooling1D(name=\"globale\"))\n",
        "\n",
        "'''\n",
        "model.add(layers.Dense(1024, activation='relu'))\n",
        "model.add(layers.Dropout(0.3))\n",
        "model.add(layers.Dense(512, activation='relu'))\n",
        "model.add(layers.Dropout(0.3))\n",
        "'''\n",
        "model.add(layers.Dense(num_classes, activation=\"sigmoid\" , name=\"last\"))\n",
        "\n",
        "adam = optimizers.Adam(learning_rate=0.0005, beta_1=0.9, beta_2=0.999, epsilon=1e-08)\n",
        "#model.load_weights('cnn-lstm.hdf5')\n",
        "rms = optimizers.RMSprop()\n",
        "model.compile(loss='binary_crossentropy', optimizer=adam, metrics=[\"accuracy\"])\n",
        "model.summary()"
      ],
      "execution_count": null,
      "outputs": [
        {
          "output_type": "stream",
          "name": "stdout",
          "text": [
            "Model: \"sequential_1\"\n",
            "_________________________________________________________________\n",
            "Layer (type)                 Output Shape              Param #   \n",
            "=================================================================\n",
            "time_distributed (TimeDistri (None, 40, 12800)         20024384  \n",
            "_________________________________________________________________\n",
            "lstm (LSTM)                  (None, 40, 40)            2054560   \n",
            "_________________________________________________________________\n",
            "time_distributed_1 (TimeDist (None, 40, 160)           6560      \n",
            "_________________________________________________________________\n",
            "globale (GlobalAveragePoolin (None, 160)               0         \n",
            "_________________________________________________________________\n",
            "last (Dense)                 (None, 2)                 322       \n",
            "=================================================================\n",
            "Total params: 22,085,826\n",
            "Trainable params: 2,061,442\n",
            "Non-trainable params: 20,024,384\n",
            "_________________________________________________________________\n"
          ]
        }
      ]
    },
    {
      "cell_type": "markdown",
      "metadata": {
        "id": "SlUUwDj8gk5F"
      },
      "source": [
        "# Train the model "
      ]
    },
    {
      "cell_type": "code",
      "metadata": {
        "id": "9D3-o_VMTYVm"
      },
      "source": [
        "class AccuracyHistory(callbacks.Callback):\n",
        "    def on_train_begin(self, logs={}):\n",
        "        self.acc = []\n",
        "        self.val_acc = []\n",
        "        self.loss = []\n",
        "        self.val_loss = []\n",
        "\n",
        "    def on_epoch_end(self, batch, logs={}):\n",
        "        self.acc.append(logs.get('acc'))\n",
        "        self.val_acc.append(logs.get('val_acc'))\n",
        "        self.loss.append(logs.get('loss'))\n",
        "        self.val_loss.append(logs.get('val_loss'))\n",
        "\n",
        "history = AccuracyHistory()\n",
        "earlyStopping = callbacks.EarlyStopping(monitor='val_loss', patience=8,min_delta=1e-5, verbose=0, mode='min')\n",
        "mcp_save = callbacks.ModelCheckpoint('MCP.hdf5', save_best_only=True, monitor='val_loss', mode='min')\n",
        "reduce_lr_loss = callbacks.ReduceLROnPlateau(monitor='val_loss',patience=1, verbose=2,factor=0.5,min_lr=0.0000001)"
      ],
      "execution_count": null,
      "outputs": []
    },
    {
      "cell_type": "code",
      "metadata": {
        "colab": {
          "base_uri": "https://localhost:8080/"
        },
        "id": "Sku5AT07T3dX",
        "outputId": "7a8b2a32-b33f-4b3d-f320-c848dccbee41"
      },
      "source": [
        "y_train = utils.to_categorical(y_train)\n",
        "print(y_train)\n",
        "print(y_train.shape)\n",
        "batch_size =3\n",
        "epochs = 10"
      ],
      "execution_count": null,
      "outputs": [
        {
          "output_type": "stream",
          "name": "stdout",
          "text": [
            "[[0. 1.]\n",
            " [1. 0.]\n",
            " [1. 0.]\n",
            " [0. 1.]\n",
            " [1. 0.]\n",
            " [1. 0.]\n",
            " [1. 0.]\n",
            " [0. 1.]\n",
            " [1. 0.]\n",
            " [1. 0.]\n",
            " [1. 0.]\n",
            " [0. 1.]\n",
            " [0. 1.]\n",
            " [0. 1.]\n",
            " [1. 0.]\n",
            " [0. 1.]\n",
            " [0. 1.]\n",
            " [0. 1.]\n",
            " [1. 0.]\n",
            " [1. 0.]\n",
            " [1. 0.]\n",
            " [0. 1.]\n",
            " [1. 0.]\n",
            " [1. 0.]\n",
            " [0. 1.]\n",
            " [1. 0.]\n",
            " [1. 0.]\n",
            " [1. 0.]\n",
            " [0. 1.]\n",
            " [1. 0.]\n",
            " [1. 0.]\n",
            " [0. 1.]\n",
            " [0. 1.]\n",
            " [0. 1.]\n",
            " [1. 0.]\n",
            " [0. 1.]\n",
            " [0. 1.]\n",
            " [0. 1.]\n",
            " [0. 1.]\n",
            " [0. 1.]\n",
            " [1. 0.]\n",
            " [0. 1.]\n",
            " [1. 0.]\n",
            " [1. 0.]\n",
            " [0. 1.]\n",
            " [1. 0.]\n",
            " [0. 1.]\n",
            " [1. 0.]\n",
            " [1. 0.]\n",
            " [1. 0.]\n",
            " [0. 1.]\n",
            " [0. 1.]\n",
            " [0. 1.]\n",
            " [0. 1.]\n",
            " [0. 1.]\n",
            " [0. 1.]\n",
            " [0. 1.]\n",
            " [0. 1.]\n",
            " [0. 1.]\n",
            " [0. 1.]\n",
            " [1. 0.]\n",
            " [1. 0.]\n",
            " [1. 0.]\n",
            " [1. 0.]\n",
            " [0. 1.]\n",
            " [0. 1.]\n",
            " [1. 0.]\n",
            " [0. 1.]\n",
            " [1. 0.]\n",
            " [0. 1.]\n",
            " [0. 1.]\n",
            " [0. 1.]]\n",
            "(72, 2)\n"
          ]
        }
      ]
    },
    {
      "cell_type": "code",
      "metadata": {
        "colab": {
          "base_uri": "https://localhost:8080/"
        },
        "id": "uyyDBZn-T74u",
        "outputId": "d3040a80-0551-4408-97c0-24a6d758ae9a"
      },
      "source": [
        "y_val = utils.to_categorical(y_val)\n",
        "print(y_val)\n",
        "print(y_val.shape)"
      ],
      "execution_count": null,
      "outputs": [
        {
          "output_type": "stream",
          "name": "stdout",
          "text": [
            "[[0. 1.]\n",
            " [1. 0.]\n",
            " [1. 0.]\n",
            " [1. 0.]\n",
            " [1. 0.]\n",
            " [0. 1.]\n",
            " [1. 0.]\n",
            " [1. 0.]\n",
            " [0. 1.]\n",
            " [0. 1.]\n",
            " [1. 0.]\n",
            " [1. 0.]\n",
            " [0. 1.]\n",
            " [0. 1.]\n",
            " [0. 1.]\n",
            " [0. 1.]\n",
            " [1. 0.]\n",
            " [0. 1.]\n",
            " [0. 1.]\n",
            " [0. 1.]\n",
            " [0. 1.]\n",
            " [0. 1.]\n",
            " [1. 0.]\n",
            " [1. 0.]]\n",
            "(24, 2)\n"
          ]
        }
      ]
    },
    {
      "cell_type": "code",
      "metadata": {
        "colab": {
          "base_uri": "https://localhost:8080/"
        },
        "id": "tBBiunqgUBxu",
        "outputId": "a734ff93-f85d-4517-f88d-0dd999a2399d"
      },
      "source": [
        "import time\n",
        "millis = int(round(time.time() * 1000))\n",
        "print(\"started at \" , millis)\n",
        "\n",
        "history=model.fit(X_train,y_train ,\n",
        "          batch_size=batch_size,\n",
        "          epochs=epochs,\n",
        "          verbose=1,\n",
        "          validation_data=(X_val, y_val),callbacks=[earlyStopping, mcp_save, reduce_lr_loss,history])"
      ],
      "execution_count": null,
      "outputs": [
        {
          "output_type": "stream",
          "name": "stdout",
          "text": [
            "started at  1631865535728\n",
            "Epoch 1/10\n",
            " 6/24 [======>.......................] - ETA: 9s - loss: 0.6962 - accuracy: 0.5556 WARNING:tensorflow:Callback method `on_train_batch_end` is slow compared to the batch time (batch time: 0.0304s vs `on_train_batch_end` time: 0.4158s). Check your callbacks.\n",
            "24/24 [==============================] - 64s 762ms/step - loss: 0.6610 - accuracy: 0.6111 - val_loss: 0.5954 - val_accuracy: 0.7917\n",
            "Epoch 2/10\n",
            "24/24 [==============================] - 17s 716ms/step - loss: 0.5734 - accuracy: 0.8194 - val_loss: 0.4363 - val_accuracy: 0.9583\n",
            "Epoch 3/10\n",
            "24/24 [==============================] - 18s 761ms/step - loss: 0.4620 - accuracy: 0.8472 - val_loss: 0.3821 - val_accuracy: 0.9167\n",
            "Epoch 4/10\n",
            "24/24 [==============================] - 17s 724ms/step - loss: 0.3539 - accuracy: 0.9167 - val_loss: 0.2318 - val_accuracy: 0.9583\n",
            "Epoch 5/10\n",
            "24/24 [==============================] - 18s 764ms/step - loss: 0.3209 - accuracy: 0.8611 - val_loss: 0.1870 - val_accuracy: 1.0000\n",
            "Epoch 6/10\n",
            "24/24 [==============================] - 18s 766ms/step - loss: 0.2067 - accuracy: 0.9444 - val_loss: 0.3336 - val_accuracy: 0.8333\n",
            "\n",
            "Epoch 00006: ReduceLROnPlateau reducing learning rate to 0.0002500000118743628.\n",
            "Epoch 7/10\n",
            "24/24 [==============================] - 18s 765ms/step - loss: 0.1657 - accuracy: 0.9722 - val_loss: 0.1689 - val_accuracy: 0.9167\n",
            "Epoch 8/10\n",
            "24/24 [==============================] - 18s 765ms/step - loss: 0.0888 - accuracy: 1.0000 - val_loss: 0.0929 - val_accuracy: 1.0000\n",
            "Epoch 9/10\n",
            "24/24 [==============================] - 18s 765ms/step - loss: 0.0707 - accuracy: 1.0000 - val_loss: 0.0797 - val_accuracy: 1.0000\n",
            "Epoch 10/10\n",
            "24/24 [==============================] - 17s 726ms/step - loss: 0.0509 - accuracy: 1.0000 - val_loss: 0.0708 - val_accuracy: 1.0000\n"
          ]
        }
      ]
    },
    {
      "cell_type": "code",
      "metadata": {
        "colab": {
          "base_uri": "https://localhost:8080/"
        },
        "id": "q5nVryosr3sT",
        "outputId": "89f05442-6f5c-40bd-9561-106d16529fd3"
      },
      "source": [
        "history.history[\"val_loss\"]"
      ],
      "execution_count": null,
      "outputs": [
        {
          "output_type": "execute_result",
          "data": {
            "text/plain": [
              "[0.5953927636146545,\n",
              " 0.43634554743766785,\n",
              " 0.3820772171020508,\n",
              " 0.23181851208209991,\n",
              " 0.18696726858615875,\n",
              " 0.33362284302711487,\n",
              " 0.1688801795244217,\n",
              " 0.09292856603860855,\n",
              " 0.07969008386135101,\n",
              " 0.07079997658729553]"
            ]
          },
          "metadata": {},
          "execution_count": 27
        }
      ]
    },
    {
      "cell_type": "code",
      "metadata": {
        "colab": {
          "base_uri": "https://localhost:8080/"
        },
        "id": "onzko7GEVtsq",
        "outputId": "d9cf2d90-f8e0-43d7-f27a-fb1e6f41882a"
      },
      "source": [
        "history.history"
      ],
      "execution_count": null,
      "outputs": [
        {
          "output_type": "execute_result",
          "data": {
            "text/plain": [
              "{'accuracy': [0.6111111044883728,\n",
              "  0.8194444179534912,\n",
              "  0.8472222089767456,\n",
              "  0.9166666865348816,\n",
              "  0.8611111044883728,\n",
              "  0.9444444179534912,\n",
              "  0.9722222089767456,\n",
              "  1.0,\n",
              "  1.0,\n",
              "  1.0],\n",
              " 'loss': [0.6610163450241089,\n",
              "  0.5733667612075806,\n",
              "  0.4620482623577118,\n",
              "  0.3539339601993561,\n",
              "  0.3208756446838379,\n",
              "  0.20669230818748474,\n",
              "  0.16569967567920685,\n",
              "  0.08882104605436325,\n",
              "  0.07067903876304626,\n",
              "  0.05092085897922516],\n",
              " 'lr': [0.0005,\n",
              "  0.0005,\n",
              "  0.0005,\n",
              "  0.0005,\n",
              "  0.0005,\n",
              "  0.0005,\n",
              "  0.00025,\n",
              "  0.00025,\n",
              "  0.00025,\n",
              "  0.00025],\n",
              " 'val_accuracy': [0.7916666865348816,\n",
              "  0.9583333134651184,\n",
              "  0.9166666865348816,\n",
              "  0.9583333134651184,\n",
              "  1.0,\n",
              "  0.8333333134651184,\n",
              "  0.9166666865348816,\n",
              "  1.0,\n",
              "  1.0,\n",
              "  1.0],\n",
              " 'val_loss': [0.5953927636146545,\n",
              "  0.43634554743766785,\n",
              "  0.3820772171020508,\n",
              "  0.23181851208209991,\n",
              "  0.18696726858615875,\n",
              "  0.33362284302711487,\n",
              "  0.1688801795244217,\n",
              "  0.09292856603860855,\n",
              "  0.07969008386135101,\n",
              "  0.07079997658729553]}"
            ]
          },
          "metadata": {},
          "execution_count": 77
        }
      ]
    },
    {
      "cell_type": "code",
      "metadata": {
        "colab": {
          "base_uri": "https://localhost:8080/",
          "height": 563
        },
        "id": "ZusY48YdUHQh",
        "outputId": "6a571e9d-384b-4549-aa79-195af0f05398"
      },
      "source": [
        "acc = history.history[\"accuracy\"]\n",
        "val_acc = history.history[\"val_accuracy\"]\n",
        "loss = history.history[\"loss\"]\n",
        "val_loss = history.history[\"val_loss\"]\n",
        "epochs = range(len(acc))\n",
        "print(epochs)\n",
        "plt.plot(epochs, acc, 'b', label='Training acc')\n",
        "plt.plot(epochs, val_acc, 'r', label='Validation acc')\n",
        "plt.title('Training and validation accuracy')\n",
        "plt.legend()\n",
        " \n",
        "plt.figure()\n",
        "\n",
        "plt.plot(epochs, loss, 'b', label='Training loss')\n",
        "plt.plot(epochs, val_loss, 'r', label='Validation loss')\n",
        "plt.title('Training and validation loss')\n",
        "plt.legend()\n",
        " \n",
        "plt.show()"
      ],
      "execution_count": null,
      "outputs": [
        {
          "output_type": "stream",
          "name": "stdout",
          "text": [
            "range(0, 10)\n"
          ]
        },
        {
          "output_type": "display_data",
          "data": {
            "image/png": "[encoded data removed]",
            "text/plain": [
              "<Figure size 432x288 with 1 Axes>"
            ]
          },
          "metadata": {
            "needs_background": "light"
          }
        },
        {
          "output_type": "display_data",
          "data": {
            "image/png": "[encoded data removed]",
            "text/plain": [
              "<Figure size 432x288 with 1 Axes>"
            ]
          },
          "metadata": {
            "needs_background": "light"
          }
        }
      ]
    },
    {
      "cell_type": "code",
      "metadata": {
        "id": "T4TFfxZVy481"
      },
      "source": [
        ""
      ],
      "execution_count": null,
      "outputs": []
    },
    {
      "cell_type": "code",
      "metadata": {
        "colab": {
          "base_uri": "https://localhost:8080/"
        },
        "id": "kfPfFNWNVoPH",
        "outputId": "721e62b5-cadd-4f2f-efef-4f18c4e6682e"
      },
      "source": [
        "score = model.evaluate(X_val, y_val, batch_size=3)\n",
        "score"
      ],
      "execution_count": null,
      "outputs": [
        {
          "output_type": "stream",
          "name": "stdout",
          "text": [
            "8/8 [==============================] - 4s 531ms/step - loss: 0.0708 - accuracy: 1.0000\n"
          ]
        },
        {
          "output_type": "execute_result",
          "data": {
            "text/plain": [
              "[0.07079997658729553, 1.0]"
            ]
          },
          "metadata": {},
          "execution_count": 44
        }
      ]
    },
    {
      "cell_type": "code",
      "metadata": {
        "id": "r9hDauq8V9--"
      },
      "source": [
        "from sklearn.metrics import classification_report, confusion_matrix"
      ],
      "execution_count": null,
      "outputs": []
    },
    {
      "cell_type": "code",
      "metadata": {
        "id": "81oCKT0AWLbg"
      },
      "source": [
        "import pandas as pd\n",
        "import matplotlib.pyplot as plt\n",
        "import seaborn as sns\n",
        "\n",
        "def print_confusion_matrix(confusion_matrix, class_names, figsize = (10,7), fontsize=14):\n",
        "    df_cm = pd.DataFrame(\n",
        "        confusion_matrix, index=class_names, columns=class_names, \n",
        "    )\n",
        "    fig = plt.figure(figsize=figsize)\n",
        "    try:\n",
        "        heatmap = sns.heatmap(df_cm, annot=True, fmt=\"d\")\n",
        "    except ValueError:\n",
        "        raise ValueError(\"Confusion matrix values must be integers.\")\n",
        "    heatmap.yaxis.set_ticklabels(heatmap.yaxis.get_ticklabels(), rotation=0, ha='right', fontsize=fontsize)\n",
        "    heatmap.xaxis.set_ticklabels(heatmap.xaxis.get_ticklabels(), rotation=45, ha='right', fontsize=fontsize)\n",
        "    plt.ylabel('True label')\n",
        "    plt.xlabel('Predicted label')\n",
        "    return fig"
      ],
      "execution_count": null,
      "outputs": []
    },
    {
      "cell_type": "code",
      "metadata": {
        "id": "rry_2lJGWOq8"
      },
      "source": [
        "Y_pred = model.predict(X_test , batch_size=1)"
      ],
      "execution_count": null,
      "outputs": []
    },
    {
      "cell_type": "code",
      "metadata": {
        "colab": {
          "base_uri": "https://localhost:8080/"
        },
        "id": "ftU697j3ziv6",
        "outputId": "85d19d90-9651-456d-a712-7ad37f1e38b6"
      },
      "source": [
        "Y_pred"
      ],
      "execution_count": null,
      "outputs": [
        {
          "output_type": "execute_result",
          "data": {
            "text/plain": [
              "array([[0.57622355, 0.40836453],\n",
              "       [0.07665963, 0.9328263 ],\n",
              "       [0.04395054, 0.960729  ],\n",
              "       [0.96609604, 0.02844177],\n",
              "       [0.96399   , 0.0306537 ],\n",
              "       [0.06364585, 0.9406806 ],\n",
              "       [0.1740128 , 0.83270943],\n",
              "       [0.93622994, 0.05322236],\n",
              "       [0.11518659, 0.8933258 ],\n",
              "       [0.7950383 , 0.17813256],\n",
              "       [0.23457877, 0.7785229 ],\n",
              "       [0.96969986, 0.02496961],\n",
              "       [0.03983   , 0.9643525 ],\n",
              "       [0.8885229 , 0.09267221],\n",
              "       [0.9716034 , 0.02375923],\n",
              "       [0.0634527 , 0.9408201 ],\n",
              "       [0.9683459 , 0.02626888],\n",
              "       [0.96836007, 0.02643337],\n",
              "       [0.9739465 , 0.02153525],\n",
              "       [0.42778543, 0.5391013 ],\n",
              "       [0.97182953, 0.02352316],\n",
              "       [0.03369255, 0.96876717],\n",
              "       [0.96288246, 0.03042957],\n",
              "       [0.9718573 , 0.02345391]], dtype=float32)"
            ]
          },
          "metadata": {},
          "execution_count": 38
        }
      ]
    },
    {
      "cell_type": "code",
      "metadata": {
        "id": "HgvaXDswWRN8"
      },
      "source": [
        "yprd = Y_pred > 0.5\n",
        "ypredicted = []\n",
        "for zero,one in yprd:\n",
        "    if zero == True:\n",
        "        ypredicted.append(0)\n",
        "    else:\n",
        "        ypredicted.append(1)\n"
      ],
      "execution_count": null,
      "outputs": []
    },
    {
      "cell_type": "code",
      "metadata": {
        "colab": {
          "base_uri": "https://localhost:8080/"
        },
        "id": "1fFj7Jiq0mfK",
        "outputId": "49e1c3a2-4992-4598-eeeb-b800ab804024"
      },
      "source": [
        "y_test = utils.to_categorical(y_test)\n",
        "print(y_test)"
      ],
      "execution_count": null,
      "outputs": [
        {
          "output_type": "stream",
          "name": "stdout",
          "text": [
            "[[1. 0.]\n",
            " [0. 1.]\n",
            " [0. 1.]\n",
            " [1. 0.]\n",
            " [1. 0.]\n",
            " [0. 1.]\n",
            " [0. 1.]\n",
            " [1. 0.]\n",
            " [0. 1.]\n",
            " [1. 0.]\n",
            " [1. 0.]\n",
            " [1. 0.]\n",
            " [0. 1.]\n",
            " [1. 0.]\n",
            " [1. 0.]\n",
            " [0. 1.]\n",
            " [1. 0.]\n",
            " [1. 0.]\n",
            " [1. 0.]\n",
            " [1. 0.]\n",
            " [1. 0.]\n",
            " [0. 1.]\n",
            " [1. 0.]\n",
            " [1. 0.]]\n"
          ]
        }
      ]
    },
    {
      "cell_type": "code",
      "metadata": {
        "colab": {
          "base_uri": "https://localhost:8080/"
        },
        "id": "sMxz8B0DWUmA",
        "outputId": "c0a957a2-84ed-470e-b94c-045565825159"
      },
      "source": [
        "y = []\n",
        "\n",
        "for zero,one in y_test:\n",
        "    if zero == True:\n",
        "        y.append(0)\n",
        "    else:\n",
        "        y.append(1)\n",
        "ypredicted\n"
      ],
      "execution_count": null,
      "outputs": [
        {
          "output_type": "execute_result",
          "data": {
            "text/plain": [
              "[0, 1, 1, 0, 0, 1, 1, 0, 1, 0, 1, 0, 1, 0, 0, 1, 0, 0, 0, 1, 0, 1, 0, 0]"
            ]
          },
          "metadata": {},
          "execution_count": 53
        }
      ]
    },
    {
      "cell_type": "code",
      "metadata": {
        "colab": {
          "base_uri": "https://localhost:8080/"
        },
        "id": "A3QbdXhrWejv",
        "outputId": "da1c08be-6e39-4184-bfba-8c162eef10cd"
      },
      "source": [
        "y_test"
      ],
      "execution_count": null,
      "outputs": [
        {
          "output_type": "execute_result",
          "data": {
            "text/plain": [
              "array([[1., 0.],\n",
              "       [0., 1.],\n",
              "       [0., 1.],\n",
              "       [1., 0.],\n",
              "       [1., 0.],\n",
              "       [0., 1.],\n",
              "       [0., 1.],\n",
              "       [1., 0.],\n",
              "       [0., 1.],\n",
              "       [1., 0.],\n",
              "       [1., 0.],\n",
              "       [1., 0.],\n",
              "       [0., 1.],\n",
              "       [1., 0.],\n",
              "       [1., 0.],\n",
              "       [0., 1.],\n",
              "       [1., 0.],\n",
              "       [1., 0.],\n",
              "       [1., 0.],\n",
              "       [1., 0.],\n",
              "       [1., 0.],\n",
              "       [0., 1.],\n",
              "       [1., 0.],\n",
              "       [1., 0.]], dtype=float32)"
            ]
          },
          "metadata": {},
          "execution_count": 54
        }
      ]
    },
    {
      "cell_type": "code",
      "metadata": {
        "colab": {
          "base_uri": "https://localhost:8080/"
        },
        "id": "e_4O5ufpWlYa",
        "outputId": "736f86fc-1656-40bc-f3d5-111861d5a7af"
      },
      "source": [
        "confusion = confusion_matrix(y,ypredicted)\n",
        "confusion.shape\n"
      ],
      "execution_count": null,
      "outputs": [
        {
          "output_type": "execute_result",
          "data": {
            "text/plain": [
              "(2, 2)"
            ]
          },
          "metadata": {},
          "execution_count": 55
        }
      ]
    },
    {
      "cell_type": "code",
      "metadata": {
        "colab": {
          "base_uri": "https://localhost:8080/",
          "height": 1000
        },
        "id": "YgM--mAsWs29",
        "outputId": "aa142f9a-6265-469e-caee-08764d78284c"
      },
      "source": [
        "print_confusion_matrix(confusion, [0,1], figsize = (30,15), fontsize=16)"
      ],
      "execution_count": null,
      "outputs": [
        {
          "output_type": "execute_result",
          "data": {
            "image/png": "[encoded data removed]",
            "text/plain": [
              "<Figure size 2160x1080 with 2 Axes>"
            ]
          },
          "metadata": {},
          "execution_count": 56
        },
        {
          "output_type": "display_data",
          "data": {
            "image/png": "[encoded data removed]",
            "text/plain": [
              "<Figure size 2160x1080 with 2 Axes>"
            ]
          },
          "metadata": {
            "needs_background": "light"
          }
        }
      ]
    },
    {
      "cell_type": "code",
      "metadata": {
        "colab": {
          "base_uri": "https://localhost:8080/"
        },
        "id": "0ED-IyHUWt5J",
        "outputId": "36a8e40a-f01f-4df8-8951-ba94a363d53a"
      },
      "source": [
        "print('Classification Report')\n",
        "print(classification_report(y, ypredicted, target_names=['no-violence','violence']))"
      ],
      "execution_count": 78,
      "outputs": [
        {
          "output_type": "stream",
          "name": "stdout",
          "text": [
            "Classification Report\n",
            "              precision    recall  f1-score   support\n",
            "\n",
            " no-violence       1.00      0.88      0.93        16\n",
            "    violence       0.80      1.00      0.89         8\n",
            "\n",
            "    accuracy                           0.92        24\n",
            "   macro avg       0.90      0.94      0.91        24\n",
            "weighted avg       0.93      0.92      0.92        24\n",
            "\n"
          ]
        }
      ]
    },
    {
      "cell_type": "code",
      "metadata": {
        "colab": {
          "base_uri": "https://localhost:8080/"
        },
        "id": "kj-ebj74WxYA",
        "outputId": "477a8233-39d4-4804-c38b-c76e01cd24c7"
      },
      "source": [
        "model.save(\"/content/drive/MyDrive/violence_detection/checkpoints/cnn-lstm.hdfs\")"
      ],
      "execution_count": null,
      "outputs": [
        {
          "output_type": "stream",
          "name": "stderr",
          "text": [
            "WARNING:absl:Found untraced functions such as lstm_cell_layer_call_and_return_conditional_losses, lstm_cell_layer_call_fn, lstm_cell_layer_call_fn, lstm_cell_layer_call_and_return_conditional_losses, lstm_cell_layer_call_and_return_conditional_losses while saving (showing 5 of 5). These functions will not be directly callable after loading.\n"
          ]
        },
        {
          "output_type": "stream",
          "name": "stdout",
          "text": [
            "INFO:tensorflow:Assets written to: /content/drive/MyDrive/violence_detection/checkpoints/cnn-lstm.hdfs/assets\n"
          ]
        },
        {
          "output_type": "stream",
          "name": "stderr",
          "text": [
            "INFO:tensorflow:Assets written to: /content/drive/MyDrive/violence_detection/checkpoints/cnn-lstm.hdfs/assets\n"
          ]
        }
      ]
    },
    {
      "cell_type": "code",
      "metadata": {
        "id": "g_j02xQIW3MF"
      },
      "source": [
        ""
      ],
      "execution_count": null,
      "outputs": []
    },
    {
      "cell_type": "markdown",
      "metadata": {
        "id": "EU3aWOiR4IoR"
      },
      "source": [
        "# Testing a sample\n"
      ]
    },
    {
      "cell_type": "code",
      "metadata": {
        "id": "9QSFi_WA4KqV"
      },
      "source": [
        "def video_reader(cv2,filename):\n",
        "    frames = np.zeros((40, 160, 160, 3), dtype=np.float)\n",
        "    i=0\n",
        "    print(frames.shape)\n",
        "    vc = cv2.VideoCapture(filename)\n",
        "    if vc.isOpened():\n",
        "        rval , frame = vc.read()\n",
        "    else:\n",
        "        rval = False\n",
        "    frm = resize(frame,(160,160,3))\n",
        "    frm = np.expand_dims(frm,axis=0)\n",
        "    if(np.max(frm)>1):\n",
        "        frm = frm/255.0\n",
        "    frames[i][:] = frm\n",
        "    i +=1\n",
        "    print(\"reading video\")\n",
        "    while i < 30:\n",
        "        rval, frame = vc.read()\n",
        "        frm = resize(frame,(160,160,3))\n",
        "        frm = np.expand_dims(frm,axis=0)\n",
        "        if(np.max(frm)>1):\n",
        "            frm = frm/255.0\n",
        "        frames[i][:] = frm\n",
        "        i +=1\n",
        "    return frames"
      ],
      "execution_count": null,
      "outputs": []
    },
    {
      "cell_type": "code",
      "metadata": {
        "id": "DD1Fn4mg5UEF"
      },
      "source": [
        "def pred_fight(model,video,acuracy=0.9):\n",
        "    pred_test = model.predict(video)\n",
        "    if pred_test[0][1] >=acuracy:\n",
        "        return True , pred_test[0][1]\n",
        "    else:\n",
        "        return False , pred_test[0][1]"
      ],
      "execution_count": null,
      "outputs": []
    },
    {
      "cell_type": "code",
      "metadata": {
        "id": "MWM1gIi05Yep"
      },
      "source": [
        "def main_fight(vidoss):\n",
        "    vid = video_reader(cv2,vidoss)\n",
        "    datav = np.zeros((1, 40, 160, 160, 3), dtype=np.float)\n",
        "    datav[0][:][:] = vid\n",
        "    millis = int(round(time.time() * 1000))\n",
        "    print(millis)\n",
        "    f , precent = pred_fight(model,datav,acuracy=0.65)\n",
        "    millis2 = int(round(time.time() * 1000))\n",
        "    print(millis2)\n",
        "    res_mamon = {'fight':f , 'precentegeoffight':str(precent)}\n",
        "    res_mamon['processing_time'] =  str(millis2-millis)\n",
        "    return res_mamon"
      ],
      "execution_count": null,
      "outputs": []
    },
    {
      "cell_type": "code",
      "metadata": {
        "colab": {
          "base_uri": "https://localhost:8080/"
        },
        "id": "7HdKvZ1O5bjc",
        "outputId": "4aca9199-f8e4-4585-c09f-1fef0ef9f136"
      },
      "source": [
        "res = main_fight('/content/drive/MyDrive/violence_detection/violence/1.m4v')"
      ],
      "execution_count": null,
      "outputs": [
        {
          "output_type": "stream",
          "name": "stdout",
          "text": [
            "(40, 160, 160, 3)\n",
            "reading video\n",
            "1631867954576\n",
            "1631867954934\n"
          ]
        }
      ]
    },
    {
      "cell_type": "code",
      "metadata": {
        "colab": {
          "base_uri": "https://localhost:8080/"
        },
        "id": "TEt-GT1i5k5o",
        "outputId": "7d538319-3d57-463d-d413-becc90f97480"
      },
      "source": [
        "res"
      ],
      "execution_count": null,
      "outputs": [
        {
          "output_type": "execute_result",
          "data": {
            "text/plain": [
              "{'fight': True, 'precentegeoffight': '0.9626249', 'processing_time': '358'}"
            ]
          },
          "metadata": {},
          "execution_count": 76
        }
      ]
    },
    {
      "cell_type": "code",
      "metadata": {
        "id": "-VqIW2oC6BH7"
      },
      "source": [
        ""
      ],
      "execution_count": null,
      "outputs": []
    }
  ]
}